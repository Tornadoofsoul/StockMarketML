{
 "cells": [
  {
   "cell_type": "code",
   "execution_count": null,
   "metadata": {
    "scrolled": true
   },
   "outputs": [],
   "source": [
    "# Imports\n",
    "\n",
    "from contextlib import contextmanager\n",
    "from datetime import datetime, timedelta\n",
    "import sqlite3\n",
    "import os\n",
    "\n",
    "from zipline.api import order, order_target, record, symbol\n",
    "from zipline.finance import commission, slippage\n",
    "import zipline\n",
    "\n",
    "import matplotlib.pyplot as plt\n",
    "import numpy as np\n",
    "import pandas as pd\n"
   ]
  },
  {
   "cell_type": "code",
   "execution_count": null,
   "metadata": {
    "collapsed": true
   },
   "outputs": [],
   "source": [
    "# Access Database\n",
    "\n",
    "@contextmanager\n",
    "def db(db_filename='stock.db'):\n",
    "    \n",
    "    conn = sqlite3.connect(os.path.join('..', 'data', db_filename), detect_types=sqlite3.PARSE_DECLTYPES|sqlite3.PARSE_COLNAMES)\n",
    "\n",
    "    cur = conn.cursor()\n",
    "    \n",
    "    yield conn, cur\n",
    "    \n",
    "    conn.close()\n",
    "    "
   ]
  },
  {
   "cell_type": "code",
   "execution_count": null,
   "metadata": {
    "collapsed": true
   },
   "outputs": [],
   "source": [
    "# Custom Slippage Model\n",
    "\n",
    "class TradeNearTheOpenSlippageModel(slippage.SlippageModel):\n",
    "\n",
    "    def __init__(self, deviation=0.001):\n",
    "        \n",
    "        self.deviation = deviation\n",
    "\n",
    "    def process_order(self, data, order):\n",
    "        \n",
    "        rand = min(np.abs(np.random.normal(0, self.deviation)), 1) # Generate a random value thats likely zero (zero=openprice)\n",
    "        \n",
    "        open_price = data.current(symbol(stock), 'open') \n",
    "        close_price = data.current(symbol(stock), 'close') \n",
    "        \n",
    "        new_price = (close_price - open_price) * rand + open_price \n",
    " \n",
    "        return (new_price, order.amount)  \n"
   ]
  },
  {
   "cell_type": "code",
   "execution_count": null,
   "metadata": {
    "collapsed": true
   },
   "outputs": [],
   "source": [
    "# Perfect Algo (aka already knows the future)\n",
    "\n",
    "def predict_perfect(stock, date): # ~Perfect~ Predictor\n",
    "    \n",
    "    with db() as (conn, cur):\n",
    "        \n",
    "        cur.execute(\"SELECT date, adjclose FROM ticks WHERE stock=? AND date BETWEEN ? AND ? ORDER BY date DESC LIMIT 1\", \n",
    "                    [stock, (date + timedelta(days=-5)).strftime('%Y-%m-%d'), (date + timedelta(days=0)).strftime('%Y-%m-%d')])\n",
    "        before = cur.fetchall()[0]\n",
    "        \n",
    "        cur.execute(\"SELECT date, adjclose FROM ticks WHERE stock=? AND date BETWEEN ? AND ? ORDER BY date ASC LIMIT 1\", \n",
    "                    [stock, (date + timedelta(days=1)).strftime('%Y-%m-%d'), (date + timedelta(days=5)).strftime('%Y-%m-%d')])\n",
    "        after = cur.fetchall()[0]\n",
    "        \n",
    "        if after[1] > before[1]:\n",
    "            return 999\n",
    "        else:\n",
    "            return -999\n",
    "        "
   ]
  },
  {
   "cell_type": "code",
   "execution_count": null,
   "metadata": {},
   "outputs": [],
   "source": [
    "# Load Stuff\n",
    "\n",
    "import pickle, os\n",
    "\n",
    "with open(os.path.join('..', 'models', 'toke-tick.pkl'), 'rb') as toke_file:\n",
    "    toke = pickle.load(toke_file)\n"
   ]
  },
  {
   "cell_type": "code",
   "execution_count": null,
   "metadata": {
    "collapsed": true
   },
   "outputs": [],
   "source": [
    "# Load Stuff Part 2\n",
    "\n",
    "from algoA import predict, correct_sign_acc, model_type\n",
    "\n",
    "from keras.models import load_model\n",
    "import keras.metrics\n",
    "keras.metrics.correct_sign_acc = correct_sign_acc\n",
    "    \n",
    "model = load_model(os.path.join('..', 'models', 'media-headlines-ticks-' + model_type + '.h5'))\n"
   ]
  },
  {
   "cell_type": "code",
   "execution_count": null,
   "metadata": {
    "collapsed": true
   },
   "outputs": [],
   "source": [
    "# Actual Algo\n",
    "        \n",
    "def predict_deep_nn(stock, date):\n",
    "    \n",
    "    preds, prices = predict(stock, model, toke, current_date=date)\n",
    "    \n",
    "    return np.mean(preds)\n"
   ]
  },
  {
   "cell_type": "code",
   "execution_count": null,
   "metadata": {},
   "outputs": [],
   "source": [
    "stock = 'INTC'\n",
    "\n",
    "def initialize(context):\n",
    "    context.set_commission(commission.PerShare(cost=0, min_trade_cost=1.0))\n",
    "    context.set_slippage(TradeNearTheOpenSlippageModel())\n",
    "    \n",
    "def trade_logic(pred_func, context, data):\n",
    "    \n",
    "    date = data.current(symbol(stock), 'last_traded').to_datetime()\n",
    "    \n",
    "    pred = pred_func(stock, date + timedelta(days=0))\n",
    "    \n",
    "    print(pred)\n",
    "    \n",
    "    shares = context.portfolio.positions[symbol(stock)].amount\n",
    "    \n",
    "    if pred > 0:\n",
    "        max_shares = context.portfolio.cash // data.current(symbol(stock), 'price')\n",
    "        if max_shares > 0:\n",
    "            order(symbol(stock), max_shares)\n",
    "    else:\n",
    "        if shares > 0:\n",
    "            order_target(symbol(stock), 0)\n",
    "        \n",
    "    record(stock=data.current(symbol(stock), 'price'))\n",
    "    record(shares=context.portfolio.positions[symbol(stock)].amount)\n",
    "    \n",
    "def handle_data_perfect(context, data):\n",
    "    \n",
    "    trade_logic(predict_perfect, context, data)\n",
    "    \n",
    "def handle_data_algo(context, data):\n",
    "\n",
    "    trade_logic(predict_deep_nn, context, data)\n",
    "\n",
    "start = pd.to_datetime('2018-01-01').tz_localize('US/Eastern')\n",
    "end = pd.to_datetime('2018-03-25').tz_localize('US/Eastern')\n",
    "\n",
    "perf_perfect = zipline.run_algorithm(start, end, initialize, 100, handle_data=handle_data_perfect)\n",
    "perf_algo = zipline.run_algorithm(start, end, initialize, 100, handle_data=handle_data_algo)"
   ]
  },
  {
   "cell_type": "code",
   "execution_count": null,
   "metadata": {},
   "outputs": [],
   "source": [
    "f, (ax1, ax2) = plt.subplots(2, 1, figsize=(20, 20), sharex=True)\n",
    "\n",
    "perf_perfect.portfolio_value.plot(ax=ax1)\n",
    "perf_algo.portfolio_value.plot(ax=ax1)\n",
    "ax1.set_ylabel('Portfolio Value')\n",
    "perf_perfect.stock.plot(ax=ax2)\n",
    "ax2.set_ylabel('Stock Price')\n",
    "plt.show()"
   ]
  }
 ],
 "metadata": {
  "kernelspec": {
   "display_name": "Python [conda env:tf-cpu]",
   "language": "python",
   "name": "conda-env-tf-cpu-py"
  },
  "language_info": {
   "codemirror_mode": {
    "name": "ipython",
    "version": 3
   },
   "file_extension": ".py",
   "mimetype": "text/x-python",
   "name": "python",
   "nbconvert_exporter": "python",
   "pygments_lexer": "ipython3",
   "version": "3.5.4"
  }
 },
 "nbformat": 4,
 "nbformat_minor": 2
}
